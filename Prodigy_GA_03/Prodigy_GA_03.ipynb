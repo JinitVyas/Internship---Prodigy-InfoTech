{
  "nbformat": 4,
  "nbformat_minor": 0,
  "metadata": {
    "colab": {
      "provenance": []
    },
    "kernelspec": {
      "name": "python3",
      "display_name": "Python 3"
    },
    "language_info": {
      "name": "python"
    }
  },
  "cells": [
    {
      "cell_type": "code",
      "source": [
        "!pip install markovify --quiet"
      ],
      "metadata": {
        "colab": {
          "base_uri": "https://localhost:8080/"
        },
        "id": "3WS2A1piZA-k",
        "outputId": "9359f56f-2a32-4826-8a87-8eb8ca111216"
      },
      "execution_count": null,
      "outputs": [
        {
          "output_type": "stream",
          "name": "stdout",
          "text": [
            "  Preparing metadata (setup.py) ... \u001b[?25l\u001b[?25hdone\n",
            "\u001b[2K   \u001b[90m━━━━━━━━━━━━━━━━━━━━━━━━━━━━━━━━━━━━━━━━\u001b[0m \u001b[32m235.5/235.5 kB\u001b[0m \u001b[31m13.6 MB/s\u001b[0m eta \u001b[36m0:00:00\u001b[0m\n",
            "\u001b[?25h  Building wheel for markovify (setup.py) ... \u001b[?25l\u001b[?25hdone\n"
          ]
        }
      ]
    },
    {
      "cell_type": "code",
      "execution_count": null,
      "metadata": {
        "id": "yzgWIyvKYWf6"
      },
      "outputs": [],
      "source": [
        "import markovify"
      ]
    },
    {
      "cell_type": "code",
      "source": [
        "text_a = open('1342-0.txt').read()\n",
        "text_b = open('84-0.txt').read()"
      ],
      "metadata": {
        "id": "llnKYMUTdova"
      },
      "execution_count": null,
      "outputs": []
    },
    {
      "cell_type": "code",
      "source": [
        "import random\n",
        "random.sample(text_b, 5)"
      ],
      "metadata": {
        "id": "OMlII5KNY4mI",
        "colab": {
          "base_uri": "https://localhost:8080/"
        },
        "outputId": "d45e1700-33cd-4153-dd99-da66713a49d8"
      },
      "execution_count": null,
      "outputs": [
        {
          "output_type": "execute_result",
          "data": {
            "text/plain": [
              "['a', 'h', 's', 'd', 'o']"
            ]
          },
          "metadata": {},
          "execution_count": 4
        }
      ]
    },
    {
      "cell_type": "code",
      "source": [
        "a_words = text_a.split()\n",
        "b_words = text_b.split()"
      ],
      "metadata": {
        "id": "XdRc4r4yWqZK"
      },
      "execution_count": null,
      "outputs": []
    },
    {
      "cell_type": "code",
      "source": [
        "random.sample(b_words, 5)"
      ],
      "metadata": {
        "colab": {
          "base_uri": "https://localhost:8080/"
        },
        "id": "xKdGQaGDereO",
        "outputId": "48ad4a44-8023-4c2e-a2c8-a308af0f9d41"
      },
      "execution_count": null,
      "outputs": [
        {
          "output_type": "execute_result",
          "data": {
            "text/plain": [
              "['my', 'the', 'Elizabeth,', 'but', 'the']"
            ]
          },
          "metadata": {},
          "execution_count": 6
        }
      ]
    },
    {
      "cell_type": "code",
      "source": [
        "from collections import Counter\n",
        "Counter(text_a).most_common(2)"
      ],
      "metadata": {
        "colab": {
          "base_uri": "https://localhost:8080/"
        },
        "id": "JCWMU6yJe46D",
        "outputId": "02d0266e-04b7-4d48-eb6e-10e7f1c63d47"
      },
      "execution_count": null,
      "outputs": [
        {
          "output_type": "execute_result",
          "data": {
            "text/plain": [
              "[(' ', 113941), ('e', 70344)]"
            ]
          },
          "metadata": {},
          "execution_count": 7
        }
      ]
    },
    {
      "cell_type": "code",
      "source": [
        "Counter(a_words).most_common(5)"
      ],
      "metadata": {
        "colab": {
          "base_uri": "https://localhost:8080/"
        },
        "id": "GsWRFfnYge_f",
        "outputId": "60a02a17-b529-4e3b-901e-fa85359531cd"
      },
      "execution_count": null,
      "outputs": [
        {
          "output_type": "execute_result",
          "data": {
            "text/plain": [
              "[('the', 4205), ('to', 4121), ('of', 3662), ('and', 3309), ('a', 1945)]"
            ]
          },
          "metadata": {},
          "execution_count": 8
        }
      ]
    },
    {
      "cell_type": "code",
      "source": [
        "hello = markovify.Text(text_a)\n",
        "hello.make_short_sentence(200)"
      ],
      "metadata": {
        "colab": {
          "base_uri": "https://localhost:8080/",
          "height": 35
        },
        "id": "5J6hAh1ZmGzM",
        "outputId": "2d438ab2-7787-4172-b94b-eac6bc02c774"
      },
      "execution_count": null,
      "outputs": [
        {
          "output_type": "execute_result",
          "data": {
            "text/plain": [
              "'He who, she had the power of doing him justice.'"
            ],
            "application/vnd.google.colaboratory.intrinsic+json": {
              "type": "string"
            }
          },
          "metadata": {},
          "execution_count": 9
        }
      ]
    },
    {
      "cell_type": "code",
      "source": [
        "generator_a = markovify.Text(text_a)\n",
        "generator_a.make_short_sentence(200)\n",
        "generator_a.make_sentence()"
      ],
      "metadata": {
        "colab": {
          "base_uri": "https://localhost:8080/",
          "height": 35
        },
        "id": "9mJWopAdaDmB",
        "outputId": "93a7561d-9424-402f-b39b-a11e5824fd2e"
      },
      "execution_count": null,
      "outputs": [
        {
          "output_type": "execute_result",
          "data": {
            "text/plain": [
              "'All were struck with the invalid, who continued, however, imperturbably grave.'"
            ],
            "application/vnd.google.colaboratory.intrinsic+json": {
              "type": "string"
            }
          },
          "metadata": {},
          "execution_count": 10
        }
      ]
    },
    {
      "cell_type": "code",
      "source": [
        "generator_a.make_short_sentence(200,tries=100)"
      ],
      "metadata": {
        "colab": {
          "base_uri": "https://localhost:8080/",
          "height": 70
        },
        "id": "jp2A5Jiq2xeV",
        "outputId": "b10527c5-f27b-4c41-c5b1-04d79f90c84c"
      },
      "execution_count": null,
      "outputs": [
        {
          "output_type": "execute_result",
          "data": {
            "text/plain": [
              "\"Wickham will never play really well unless she practises more; and though I doubt whether _his_ reserve, or _anybody's_ reserve, can be placed in the same time to the day would be in circulation.\""
            ],
            "application/vnd.google.colaboratory.intrinsic+json": {
              "type": "string"
            }
          },
          "metadata": {},
          "execution_count": 11
        }
      ]
    },
    {
      "cell_type": "code",
      "source": [
        "generator_a.make_short_sentence(100, test_output=False)"
      ],
      "metadata": {
        "colab": {
          "base_uri": "https://localhost:8080/",
          "height": 35
        },
        "id": "jFnub6mC3jwg",
        "outputId": "300447e3-d21d-4a5d-bb25-4561e47b0c76"
      },
      "execution_count": null,
      "outputs": [
        {
          "output_type": "execute_result",
          "data": {
            "text/plain": [
              "'Every disposition of the Meryton assembly was sufficiently characteristic.'"
            ],
            "application/vnd.google.colaboratory.intrinsic+json": {
              "type": "string"
            }
          },
          "metadata": {},
          "execution_count": 12
        }
      ]
    },
    {
      "cell_type": "code",
      "source": [
        "gen_a_1 = markovify.Text(text_a, state_size=1)\n",
        "gen_a_4 = markovify.Text(text_a, state_size=4)"
      ],
      "metadata": {
        "id": "QZFY1htG3zT2"
      },
      "execution_count": null,
      "outputs": []
    },
    {
      "cell_type": "code",
      "source": [
        "print(gen_a_1.make_sentence(test_output=False),end=\"\\n\\n\\n\")\n",
        "print(gen_a_4.make_sentence(test_output=False))"
      ],
      "metadata": {
        "colab": {
          "base_uri": "https://localhost:8080/"
        },
        "id": "Kx9Ik_H84M2Q",
        "outputId": "506c2457-95a8-4ab6-8577-1191c002e511"
      },
      "execution_count": null,
      "outputs": [
        {
          "output_type": "stream",
          "name": "stdout",
          "text": [
            "Mr. Darcy might be married privately in vain.\n",
            "\n",
            "\n",
            "Kitty simpered and smiled, and hoped her turn was coming soon.\n"
          ]
        }
      ]
    },
    {
      "cell_type": "markdown",
      "source": [
        "The above code was Exploration part of Markovify"
      ],
      "metadata": {
        "id": "cTAS09QA6oOY"
      }
    },
    {
      "cell_type": "code",
      "source": [
        "combined_text = text_a + \" \" + text_b\n",
        "\n",
        "# combined_text = combined_text.lower()"
      ],
      "metadata": {
        "id": "EGVPmozj7JWv"
      },
      "execution_count": null,
      "outputs": []
    },
    {
      "cell_type": "code",
      "source": [
        "text_model = markovify.Text(combined_text, state_size=3)"
      ],
      "metadata": {
        "id": "9jYTpaRp6trx"
      },
      "execution_count": null,
      "outputs": []
    },
    {
      "cell_type": "code",
      "source": [
        "# Generate sentences\n",
        "for i in range(5):\n",
        "    print(text_model.make_sentence())\n",
        "    print()\n",
        "\n",
        "print(text_model.make_short_sentence(280))\n"
      ],
      "metadata": {
        "colab": {
          "base_uri": "https://localhost:8080/"
        },
        "id": "m_JzRTAw7F-b",
        "outputId": "f8ec92d1-e533-40bc-c76e-f2d20eab1a7e"
      },
      "execution_count": null,
      "outputs": [
        {
          "output_type": "stream",
          "name": "stdout",
          "text": [
            "Bingley was punctual to his time, and was received with the greatest satisfaction, spoke of him in London.\n",
            "\n",
            "These are conditions which, considering everything, I had no means of extracting it.\n",
            "\n",
            "There—for with your leave, my sister, I will put on my things in a moment.\n",
            "\n",
            "I had begun my adjuration with solemnity and an awe which almost assured me that he was the admirer of some one else.\n",
            "\n",
            "It cannot be done too much; and when I again cast my eyes on that with pleasure.\n",
            "\n",
            "Darkness then came over me and my devoted family!\n"
          ]
        }
      ]
    },
    {
      "cell_type": "code",
      "source": [
        "from collections import defaultdict, Counter"
      ],
      "metadata": {
        "id": "gimvYq9W7j8I"
      },
      "execution_count": null,
      "outputs": []
    },
    {
      "cell_type": "code",
      "source": [
        "words = combined_text.split()"
      ],
      "metadata": {
        "id": "dbiToIkX8oLh"
      },
      "execution_count": null,
      "outputs": []
    },
    {
      "cell_type": "code",
      "source": [
        "len(words)"
      ],
      "metadata": {
        "colab": {
          "base_uri": "https://localhost:8080/"
        },
        "id": "LIvJ-6YU8sih",
        "outputId": "eefed98d-8080-4823-d54c-c6dceb6f0970"
      },
      "execution_count": null,
      "outputs": [
        {
          "output_type": "execute_result",
          "data": {
            "text/plain": [
              "202690"
            ]
          },
          "metadata": {},
          "execution_count": 33
        }
      ]
    },
    {
      "cell_type": "code",
      "source": [
        "# Word level model\n",
        "transitions = defaultdict(Counter)"
      ],
      "metadata": {
        "id": "Erf9FHgf8xMz"
      },
      "execution_count": null,
      "outputs": []
    },
    {
      "cell_type": "code",
      "source": [
        "# Populate the transition matrix\n",
        "for i in range(len(words) - 1):\n",
        "    current_word = words[i]\n",
        "    next_word = words[i + 1]\n",
        "    transitions[current_word][next_word] += 1"
      ],
      "metadata": {
        "id": "lTkBtJje8595"
      },
      "execution_count": null,
      "outputs": []
    },
    {
      "cell_type": "code",
      "source": [
        "# Normalize to get probabilities\n",
        "for current_word, next_words in transitions.items():\n",
        "    total = sum(next_words.values())\n",
        "    for next_word in next_words:\n",
        "        next_words[next_word] /= total"
      ],
      "metadata": {
        "id": "wIX0CDUp8_lR"
      },
      "execution_count": null,
      "outputs": []
    },
    {
      "cell_type": "code",
      "source": [
        "def predict_next_options(input_word, n=3):\n",
        "    input_word = input_word.lower()  # Ensure the input matches our preprocessed data\n",
        "    if input_word in transitions:\n",
        "        # Get the next word probabilities sorted by probability\n",
        "        next_words = transitions[input_word]\n",
        "        sorted_next_words = sorted(next_words.items(), key=lambda item: item[1], reverse=True)\n",
        "\n",
        "        # Return the top n most probable next words\n",
        "        return sorted_next_words[:n]\n",
        "    else:\n",
        "        return gen_a_4.make_sentence(1)"
      ],
      "metadata": {
        "id": "lgTOabLM9Ceh"
      },
      "execution_count": null,
      "outputs": []
    },
    {
      "cell_type": "code",
      "source": [
        "input_word = \"but\"\n",
        "predictions = predict_next_options(input_word, n=3)\n",
        "if predictions:\n",
        "    for word, prob in predictions:\n",
        "        print(f\"Next word: {word}, Probability: {prob*100:.2f}%\")\n",
        "else:\n",
        "    print(\"No predictions available for this input.\")"
      ],
      "metadata": {
        "colab": {
          "base_uri": "https://localhost:8080/"
        },
        "id": "dA7lk5pX9cVZ",
        "outputId": "9afe56ff-c00d-4ada-ad99-7505e19c9336"
      },
      "execution_count": null,
      "outputs": [
        {
          "output_type": "stream",
          "name": "stdout",
          "text": [
            "Next word: I, Probability: 12.42%\n",
            "Next word: the, Probability: 5.99%\n",
            "Next word: it, Probability: 4.60%\n"
          ]
        }
      ]
    }
  ]
}